{
 "cells": [
  {
   "cell_type": "markdown",
   "id": "0b700be4",
   "metadata": {},
   "source": [
    "# Netflix Dataset Analysis — Major Project\n",
    "**Dataset expected:** `netflix.csv`  \n",
    "**Project goal:** Content Trends Analysis for Strategic Recommendations (Movies vs TV Shows, genres, country contributions)  \n",
    "\n",
    "**How to use:**  \n",
    "1. Upload `netflix.csv` to the same folder as this notebook.  \n",
    "2. Run cells top-to-bottom.  \n",
    "3. Fill observation placeholders (where prompted) and export as PDF or submit `.ipynb`.  \n",
    "\n",
    "*Notebook includes:* Data cleaning, EDA (plots + tables), genre & country trends, clustering example, and strategic recommendations.  \n",
    "Dark theme styling is included for notebook display cells.  \n"
   ]
  },
  {
   "cell_type": "code",
   "execution_count": null,
   "id": "8e296fdd",
   "metadata": {},
   "outputs": [],
   "source": [
    "from IPython.core.display import HTML\n",
    "HTML('''\n",
    "<style>\n",
    "body { background:#0b0f14; color:#e6eef3; }\n",
    "div.output_area pre { color: #e6eef3; background:#071024; }\n",
    ".rendered_html { color: #e6eef3; }\n",
    ".jp-OutputArea-output pre { color:#e6eef3; background:#071024; }\n",
    "</style>\n",
    "''')"
   ]
  },
  {
   "cell_type": "code",
   "execution_count": null,
   "id": "c0e1b3bc",
   "metadata": {},
   "outputs": [],
   "source": [
    "# Setup: imports and basic configuration\n",
    "import pandas as pd\n",
    "import numpy as np\n",
    "import plotly.express as px\n",
    "import plotly.graph_objects as go\n",
    "import matplotlib.pyplot as plt\n",
    "from sklearn.feature_extraction.text import TfidfVectorizer\n",
    "from sklearn.cluster import KMeans\n",
    "from sklearn.preprocessing import MultiLabelBinarizer\n",
    "import warnings\n",
    "warnings.filterwarnings('ignore')\n",
    "\n",
    "print(\"Libraries loaded. Make sure 'netflix.csv' is in the same folder as this notebook.\")"
   ]
  },
  {
   "cell_type": "code",
   "execution_count": null,
   "id": "ed5809ce",
   "metadata": {},
   "outputs": [],
   "source": [
    "# Load dataset\n",
    "df = pd.read_csv('netflix.csv')\n",
    "print('Dataset loaded. Shape:', df.shape)\n",
    "df.head()"
   ]
  },
  {
   "cell_type": "code",
   "execution_count": null,
   "id": "38882afe",
   "metadata": {},
   "outputs": [],
   "source": [
    "# Quick inspection\n",
    "df.info()\n",
    "df.describe(include='all').T"
   ]
  },
  {
   "cell_type": "code",
   "execution_count": null,
   "id": "d7c411d2",
   "metadata": {},
   "outputs": [],
   "source": [
    "# Preprocessing\n",
    "# Common column names handled: title, type, director, cast, country, date_added, release_year, rating, duration, listed_in\n",
    "\n",
    "# 1) Standardize column names (lowercase, strip)\n",
    "df.columns = df.columns.str.strip().str.lower()\n",
    "\n",
    "# 2) Parse dates if present\n",
    "if 'date_added' in df.columns:\n",
    "    df['date_added'] = pd.to_datetime(df['date_added'], errors='coerce')\n",
    "    df['year_added'] = df['date_added'].dt.year\n",
    "\n",
    "# 3) Ensure release_year exists\n",
    "if 'release_year' not in df.columns and 'year' in df.columns:\n",
    "    df['release_year'] = df['year']\n",
    "\n",
    "# 4) Normalize text fields\n",
    "for col in ['director', 'cast', 'country', 'listed_in']:\n",
    "    if col in df.columns:\n",
    "        df[col] = df[col].fillna('').astype(str).str.strip()\n",
    "\n",
    "# 5) Create genres list from listed_in\n",
    "if 'listed_in' in df.columns:\n",
    "    df['genres'] = df['listed_in'].apply(lambda x: [g.strip() for g in x.split(',')] if x else [])\n",
    "else:\n",
    "    df['genres'] = [[] for _ in range(len(df))]\n",
    "\n",
    "# 6) Extract primary_genre and num_genres\n",
    "df['primary_genre'] = df['genres'].apply(lambda x: x[0] if len(x)>0 else 'Unknown')\n",
    "df['num_genres'] = df['genres'].apply(len)\n",
    "\n",
    "# 7) Normalize duration: create duration_min (for movies) and seasons (for TV Shows)\n",
    "def parse_duration(x):\n",
    "    if pd.isna(x): \n",
    "        return None\n",
    "    s = str(x)\n",
    "    if 'min' in s:\n",
    "        try:\n",
    "            return int(s.split(' ')[0])\n",
    "        except:\n",
    "            return None\n",
    "    if 'Season' in s or 'Seasons' in s:\n",
    "        try:\n",
    "            return int(s.split(' ')[0])\n",
    "        except:\n",
    "            return None\n",
    "    return None\n",
    "\n",
    "if 'duration' in df.columns:\n",
    "    df['duration_min'] = df['duration'].apply(lambda x: parse_duration(x) if isinstance(x,str) else None)\n",
    "\n",
    "# 8) Fill missing country\n",
    "if 'country' in df.columns:\n",
    "    df['country'] = df['country'].replace('', 'Unknown')\n",
    "\n",
    "print('Preprocessing done. Sample:')\n",
    "df[['title','type','release_year','year_added','primary_genre','num_genres','country']].head()"
   ]
  },
  {
   "cell_type": "code",
   "execution_count": null,
   "id": "889717c2",
   "metadata": {},
   "outputs": [],
   "source": [
    "# EDA: Movies vs TV Shows overall and over time\n",
    "if 'type' in df.columns:\n",
    "    type_counts = df['type'].value_counts()\n",
    "    print('Overall counts by type:\\n', type_counts)\n",
    "\n",
    "    if 'year_added' in df.columns:\n",
    "        year_type = df.groupby(['year_added','type']).size().unstack(fill_value=0)\n",
    "        year_type['Total'] = year_type.sum(axis=1)\n",
    "        display(year_type.tail(10))\n",
    "        fig = px.area(year_type.reset_index(), x='year_added', y=[c for c in year_type.columns if c!='Total'],\n",
    "                      title='Titles added per year by Type (Movies vs TV Shows)')\n",
    "        fig.show()\n",
    "else:\n",
    "    print('Column `type` not found in dataset.')"
   ]
  },
  {
   "cell_type": "code",
   "execution_count": null,
   "id": "e040639b",
   "metadata": {},
   "outputs": [],
   "source": [
    "# Top genres (multi-label handling)\n",
    "from collections import Counter\n",
    "all_genres = Counter(g for sub in df['genres'] for g in sub)\n",
    "top_genres = all_genres.most_common(20)\n",
    "pd.DataFrame(top_genres, columns=['genre','count']).set_index('genre')"
   ]
  },
  {
   "cell_type": "code",
   "execution_count": null,
   "id": "13b49d6e",
   "metadata": {},
   "outputs": [],
   "source": [
    "# Time series for top 6 genres\n",
    "top6 = [g for g,c in top_genres[:6]]\n",
    "df_expl = df.explode('genres')\n",
    "if 'year_added' in df.columns:\n",
    "    ts = df_expl[df_expl['genres'].isin(top6)].groupby(['year_added','genres']).size().unstack(fill_value=0)\n",
    "    fig = px.line(ts.reset_index(), x='year_added', y=top6, markers=True, title='Top 6 Genres Over Time')\n",
    "    fig.show()\n",
    "else:\n",
    "    print('`year_added` column missing; cannot plot genre time series.')"
   ]
  },
  {
   "cell_type": "code",
   "execution_count": null,
   "id": "65e9761d",
   "metadata": {},
   "outputs": [],
   "source": [
    "# Country-wise contributions (top countries)\n",
    "if 'country' in df.columns:\n",
    "    # handle multiple countries per row: take first country as primary for simplicity\n",
    "    df['primary_country'] = df['country'].apply(lambda x: x.split(',')[0].strip() if x else 'Unknown')\n",
    "    country_counts = df['primary_country'].value_counts().head(20)\n",
    "    country_counts_df = country_counts.reset_index()\n",
    "    country_counts_df.columns = ['country','count']\n",
    "    country_counts_df\n",
    "    fig = px.bar(country_counts_df, x='count', y='country', orientation='h', title='Top 20 Countries by Titles')\n",
    "    fig.show()\n",
    "else:\n",
    "    print('Column `country` not found.')"
   ]
  },
  {
   "cell_type": "code",
   "execution_count": null,
   "id": "71263bbb",
   "metadata": {},
   "outputs": [],
   "source": [
    "# Genre co-occurrence matrix (heatmap)\n",
    "mlb = MultiLabelBinarizer()\n",
    "genre_matrix = mlb.fit_transform(df['genres'])\n",
    "genre_df = pd.DataFrame(genre_matrix, columns=mlb.classes_)\n",
    "co_occ = pd.DataFrame(genre_df.T.dot(genre_df), index=mlb.classes_, columns=mlb.classes_)\n",
    "# show top 12 genres co-occurrence heatmap\n",
    "top12 = [g for g,c in top_genres[:12]]\n",
    "co_small = co_occ.loc[top12, top12]\n",
    "fig = px.imshow(co_small, text_auto=True, title='Genre Co-occurrence (Top 12)')\n",
    "fig.show()"
   ]
  },
  {
   "cell_type": "code",
   "execution_count": null,
   "id": "82e83ad1",
   "metadata": {},
   "outputs": [],
   "source": [
    "# Clustering example: KMeans on genre multi-hot vectors\n",
    "# We'll cluster titles by their genre multi-hot vectors (k=5 clusters as a starting point)\n",
    "if genre_df.shape[1] > 0:\n",
    "    X = genre_df.values\n",
    "    k = 5\n",
    "    kmeans = KMeans(n_clusters=k, random_state=42)\n",
    "    labels = kmeans.fit_predict(X)\n",
    "    df['genre_cluster'] = labels\n",
    "    display(df[['title','type','primary_genre','genre_cluster']].head())\n",
    "    # cluster sizes\n",
    "    display(df['genre_cluster'].value_counts().sort_index())\n",
    "else:\n",
    "    print('No genres available for clustering.')"
   ]
  },
  {
   "cell_type": "code",
   "execution_count": null,
   "id": "0dc22de7",
   "metadata": {},
   "outputs": [],
   "source": [
    "# Trend detection: compute linear trend (slope) for top genres\n",
    "import numpy as np\n",
    "from sklearn.linear_model import LinearRegression\n",
    "\n",
    "if 'year_added' in df.columns:\n",
    "    trends = []\n",
    "    for genre, _ in top_genres:\n",
    "        series = df_expl[df_expl['genres']==genre].groupby('year_added').size()\n",
    "        if len(series) >= 3:\n",
    "            X = np.array(series.index).reshape(-1,1)\n",
    "            y = series.values\n",
    "            lr = LinearRegression().fit(X,y)\n",
    "            slope = lr.coef_[0]\n",
    "            trends.append((genre, slope))\n",
    "    trends_sorted = sorted(trends, key=lambda x: x[1], reverse=True)\n",
    "    pd.DataFrame(trends_sorted, columns=['genre','slope']).head(15)\n",
    "else:\n",
    "    print('`year_added` missing; cannot compute trends.')"
   ]
  },
  {
   "cell_type": "code",
   "execution_count": null,
   "id": "fd112e44",
   "metadata": {},
   "outputs": [],
   "source": [
    "# Save cleaned sample output (optional)\n",
    "df_clean_sample = df.sample(frac=0.1, random_state=42)  # 10% sample\n",
    "df_clean_sample.to_csv('netflix_clean_sample.csv', index=False)\n",
    "print('Saved netflix_clean_sample.csv')"
   ]
  },
  {
   "cell_type": "markdown",
   "id": "eba4a8b1",
   "metadata": {},
   "source": [
    "## What to write in your report (placeholders)\n",
    "- **Key Findings:** (write bullet points based on the plots and tables you see)\n",
    "- **Top genres:** \n",
    "- **Rising genres:** \n",
    "- **Country insights:** \n",
    "- **Movies vs TV Shows trend:** \n",
    "- **Clustering interpretation:** \n",
    "- **Strategic recommendations:** \n"
   ]
  },
  {
   "cell_type": "markdown",
   "id": "004ec560",
   "metadata": {},
   "source": [
    "---  \n",
    "### Next steps you can do (suggestions)\n",
    "- Add popularity or rating data if available to prioritize high-impact content.  \n",
    "- Build an interactive dashboard using Dash or Streamlit.  \n",
    "- Run forecasting (Prophet) for top genres if you want future projections.  \n",
    "- Expand clustering using title text or descriptions (NLP).  \n",
    "\n",
    "Good luck — run the notebook cells and paste your observations into the placeholders. If anything errors due to column name mismatches, update the column name at the top or message me and I will adjust the notebook for your file.  \n"
   ]
  }
 ],
 "metadata": {},
 "nbformat": 4,
 "nbformat_minor": 5
}
